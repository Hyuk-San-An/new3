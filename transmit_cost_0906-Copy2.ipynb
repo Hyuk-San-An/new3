{
 "cells": [
  {
   "cell_type": "code",
   "execution_count": 3,
   "id": "7578a992",
   "metadata": {},
   "outputs": [
    {
     "name": "stdout",
     "output_type": "stream",
     "text": [
      "CPU times: total: 4.27 s\n",
      "Wall time: 4.27 s\n"
     ]
    }
   ],
   "source": [
    "%%time\n",
    "from pathlib import Path\n",
    "import pandas as pd\n",
    "import numpy as np\n",
    "from openpyxl import Workbook\n",
    "from openpyxl import load_workbook\n",
    "from openpyxl.utils.cell import coordinate_from_string\n",
    "\n",
    "# %%time\n",
    "bom_dir=Path('D:\\Phython Workspace\\BOM')\n",
    "file_name='default.xlsx'\n",
    "file=bom_dir/file_name\n",
    "\n",
    "wb_d=load_workbook(file)\n",
    "sh_d=wb_d.worksheets[0]\n",
    "\n",
    "# df=pd.read_excel(file,skiprows=7,usecols='c,f,h,i,u,v:w') \n",
    "# df=df[[ '품명','품번', '단위', '소요량', 'Vendor', '화폐', '단가'] ]\n",
    "\n",
    "data=[]\n",
    "model_name=[]\n",
    "for i in bom_dir.glob('[a-zA-Z]*_bom.xlsx'):   ## 정규 표현식 ~로 시작하는 이상한 파일 제외\n",
    "    file=bom_dir/i\n",
    "    df=pd.read_excel(file,skiprows=7,usecols='c,f,h,i,u,v:w') \n",
    "    df=df[[ '품명','품번', '단위', '소요량', 'Vendor', '화폐', '단가'] ]\n",
    "    data.append(df)\n",
    "    model_name.append(file.stem[:file.stem.find('_')])\n",
    "\n",
    "for idx,data in enumerate(data):\n",
    "    \n",
    "    sh_copy=wb_d.copy_worksheet(sh_d)\n",
    "    sh_copy.title=model_name[idx]\n",
    "    \n",
    "    part_n=data[['품명','품번']].values.tolist()\n",
    "    unit_qty_vendor=data[['단위','소요량','Vendor']].values.tolist()\n",
    "    currency_unit_price=data[['화폐','단가']].values.tolist()\n",
    "\n",
    "    excel.write(sh_copy,part_n,(15,15))\n",
    "    excel.write(sh_copy,unit_qty_vendor,(15,21))\n",
    "    excel.write(sh_copy,currency_unit_price,(15,35))\n",
    "\n",
    "# %%time\n",
    "wb_d.remove(sh_d)\n",
    "wb_d.save(bom_dir/'result1.xlsx')\n"
   ]
  },
  {
   "cell_type": "code",
   "execution_count": null,
   "id": "5dfe367a",
   "metadata": {},
   "outputs": [],
   "source": []
  }
 ],
 "metadata": {
  "kernelspec": {
   "display_name": "Python 3 (ipykernel)",
   "language": "python",
   "name": "python3"
  },
  "language_info": {
   "codemirror_mode": {
    "name": "ipython",
    "version": 3
   },
   "file_extension": ".py",
   "mimetype": "text/x-python",
   "name": "python",
   "nbconvert_exporter": "python",
   "pygments_lexer": "ipython3",
   "version": "3.10.4"
  }
 },
 "nbformat": 4,
 "nbformat_minor": 5
}
